{
 "cells": [
  {
   "cell_type": "code",
   "execution_count": 1,
   "id": "0565e502",
   "metadata": {},
   "outputs": [
    {
     "name": "stdout",
     "output_type": "stream",
     "text": [
      "Classifier: LogisticRegression has a training score of 100.0 % accuracy score\n",
      "Classifier: LogisticRegression has a test score of 100.0 % accuracy score\n",
      "Classifier: KNeighborsClassifier has a training score of 100.0 % accuracy score\n",
      "Classifier: KNeighborsClassifier has a test score of 100.0 % accuracy score\n",
      "Classifier: SVC has a training score of 100.0 % accuracy score\n",
      "Classifier: SVC has a test score of 100.0 % accuracy score\n",
      "Classifier: DecisionTreeClassifier has a training score of 100.0 % accuracy score\n",
      "Classifier: DecisionTreeClassifier has a test score of 100.0 % accuracy score\n"
     ]
    }
   ],
   "source": [
    "import pandas as pd\n",
    "from sklearn.model_selection import train_test_split, cross_val_score\n",
    "from sklearn.linear_model import LogisticRegression\n",
    "from sklearn.neighbors import KNeighborsClassifier\n",
    "from sklearn.svm import SVC\n",
    "from sklearn.tree import DecisionTreeClassifier\n",
    "from sklearn.preprocessing import StandardScaler\n",
    "from sklearn.exceptions import ConvergenceWarning\n",
    "import warnings\n",
    "\n",
    "# Ignore ConvergenceWarnings to reduce output noise\n",
    "warnings.filterwarnings(\"ignore\", category=ConvergenceWarning)\n",
    "# Load the dataset\n",
    "new_df = pd.read_csv(\"C:\\\\Users\\\\budal\\\\Downloads\\\\creditcard.csv\\\\creditcard.csv\")\n",
    "\n",
    "# Assuming you have 'Class' column in your dataset\n",
    "X = new_df.drop('Class', axis=1)\n",
    "y = new_df['Class']\n",
    "\n",
    "# This is explicitly used for undersampling.\n",
    "X_train, X_test, y_train, y_test = train_test_split(X, y, test_size=0.2, random_state=42)\n",
    "\n",
    "# Scale the data\n",
    "scaler = StandardScaler()\n",
    "X_train_scaled = scaler.fit_transform(X_train)\n",
    "X_test_scaled = scaler.transform(X_test)\n",
    "\n",
    "# Let's implement simple classifiers\n",
    "classifiers = {\n",
    "    \"LogisticRegression\": LogisticRegression(max_iter=1000),\n",
    "    \"KNearest\": KNeighborsClassifier(),\n",
    "    \"SupportVectorClassifier\": SVC(),\n",
    "    \"DecisionTreeClassifier\": DecisionTreeClassifier()\n",
    "}\n",
    "\n",
    "# Evaluate classifiers using cross-validation\n",
    "for key, classifier in classifiers.items():\n",
    "    classifier.fit(X_train_scaled, y_train)\n",
    "    training_score = cross_val_score(classifier, X_train_scaled, y_train, cv=5)\n",
    "    print(\"Classifier:\", classifier.__class__.__name__, \"has a training score of\", round(training_score.mean(), 2) * 100, \"% accuracy score\")\n",
    "\n",
    "    # Evaluate on the test set\n",
    "    test_score = classifier.score(X_test_scaled, y_test)\n",
    "    print(\"Classifier:\", classifier.__class__.__name__, \"has a test score of\", round(test_score, 2) * 100, \"% accuracy score\")\n"
   ]
  },
  {
   "cell_type": "code",
   "execution_count": null,
   "id": "5d6d3869",
   "metadata": {},
   "outputs": [],
   "source": []
  }
 ],
 "metadata": {
  "kernelspec": {
   "display_name": "Python 3 (ipykernel)",
   "language": "python",
   "name": "python3"
  },
  "language_info": {
   "codemirror_mode": {
    "name": "ipython",
    "version": 3
   },
   "file_extension": ".py",
   "mimetype": "text/x-python",
   "name": "python",
   "nbconvert_exporter": "python",
   "pygments_lexer": "ipython3",
   "version": "3.11.5"
  }
 },
 "nbformat": 4,
 "nbformat_minor": 5
}
